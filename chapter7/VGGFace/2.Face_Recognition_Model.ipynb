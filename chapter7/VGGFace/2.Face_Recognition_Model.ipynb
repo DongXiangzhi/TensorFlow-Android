{
 "cells": [
  {
   "cell_type": "markdown",
   "metadata": {},
   "source": [
    "<p style=\"text-align:right\">\n",
    "    项目名称：<b>人脸识别</b><br/>\n",
    "设计：董相志<br/>\n",
    "学号：220100<br/>\n",
    "日期：2020.10<br/></p>"
   ]
  },
  {
   "cell_type": "markdown",
   "metadata": {},
   "source": [
    "# 第二阶段：建立人脸识别模型"
   ]
  },
  {
   "cell_type": "markdown",
   "metadata": {},
   "source": [
    "### 模仿VGG-16模型的结构，自定义一个CNN网络，完成人脸识别的模型训练工作"
   ]
  },
  {
   "cell_type": "markdown",
   "metadata": {},
   "source": [
    "### 工作步骤：\n",
    "【1】根据第一阶段采集的数据，用数据增强方法构建训练集与验证集。<br/>\n",
    "【2】自定义<b> VGG-Face </b>模型<br/>\n",
    "【3】模型训练<br/>\n",
    "【4】模型评价<br/>\n",
    "【5】模型测试<br/>\n",
    "其实，人脸数据增强需要小心进行，例如不能随意垂直翻转或水平翻转等。此处强调增强，是为了巩固学生处理数据集的能力。"
   ]
  },
  {
   "cell_type": "markdown",
   "metadata": {},
   "source": [
    "### 2.1 构建训练集和验证集 "
   ]
  },
  {
   "cell_type": "markdown",
   "metadata": {},
   "source": [
    "第一阶段完成的数据，都是以图片格式分类存放在目录中。目录名称为类别名称。所谓构建训练集与验证集，是指采用一种方法，能够根据模型训练进度的需要，实时、动态、高效加载外部数据。甚至还能够一边加载数据，一边对数据做增强处理。"
   ]
  },
  {
   "cell_type": "code",
   "execution_count": 1,
   "metadata": {},
   "outputs": [],
   "source": [
    "# 导入库\n",
    "from tensorflow.keras.preprocessing.image import ImageDataGenerator\n",
    "from tensorflow.keras import Sequential\n",
    "from tensorflow.keras.layers import Dense, Dropout, Flatten, BatchNormalization, \\\n",
    "                                    Conv2D, MaxPool2D"
   ]
  },
  {
   "cell_type": "code",
   "execution_count": 2,
   "metadata": {},
   "outputs": [
    {
     "name": "stdout",
     "output_type": "stream",
     "text": [
      "Found 211 images belonging to 4 classes.\n",
      "Found 94 images belonging to 4 classes.\n"
     ]
    }
   ],
   "source": [
    "# 构建训练集和验证集\n",
    "num_classes = 4  # 类别  （zhou,wu,zheng,wang，或者one、two、three、four）\n",
    "face_h, face_w = 64, 64  # 头像尺寸，这是为了减少计算量，实践中应该设为128,、160、224等\n",
    "batch_size = 8   # 因为总的样本数不多，所以批处理设的小一些\n",
    "\n",
    "train_data_dir = './dataset/train'  # 这是训练集的根目录\n",
    "validation_data_dir = './dataset/valid'  # 这是验证集的根目录\n",
    "\n",
    "# 定义数据集加载器，这里只指定了归一化处理参数，其他参数用默认值\n",
    "train_datagen = ImageDataGenerator(rescale=1./255)\n",
    "validation_datagen = ImageDataGenerator(rescale=1./255)\n",
    "#  定义数据加载器的工作逻辑\n",
    "train_generator = train_datagen.flow_from_directory(\n",
    "        train_data_dir,   # 从哪个目录加载\n",
    "        target_size=(face_h, face_w),  # 图像缩放尺寸\n",
    "        batch_size=batch_size,  # 批处理大小\n",
    "        class_mode='categorical',  # 指定为分类工作模式\n",
    "        shuffle=True)  # 对加载的数据重新洗牌 \n",
    "validation_generator = validation_datagen.flow_from_directory(\n",
    "        validation_data_dir,\n",
    "        target_size=(face_h, face_w),\n",
    "        batch_size=batch_size,\n",
    "        class_mode='categorical',\n",
    "        shuffle=True)"
   ]
  },
  {
   "cell_type": "markdown",
   "metadata": {},
   "source": [
    "完成了上述工作，现在您可以把注意力放到人脸识别模型上来了！"
   ]
  },
  {
   "cell_type": "markdown",
   "metadata": {},
   "source": [
    "### 2.2 模仿 VGG-16 模型的结构，自定义CNN模型\n",
    "<img src = './images/faceModel.JPG' />"
   ]
  },
  {
   "cell_type": "markdown",
   "metadata": {},
   "source": [
    "这是我们参照VGG的结构给出的一个自定义CNN模型。课堂测试时，为了加快训练速度，观察模型的演示效果，将输入图像的尺寸设为（64,64,3）。事实上，我们前面已经指定了新参数为：<b>face_h, face_w = 64, 64 </b>"
   ]
  },
  {
   "cell_type": "code",
   "execution_count": 3,
   "metadata": {},
   "outputs": [
    {
     "name": "stdout",
     "output_type": "stream",
     "text": [
      "Model: \"Face_Model\"\n",
      "_________________________________________________________________\n",
      "Layer (type)                 Output Shape              Param #   \n",
      "=================================================================\n",
      "conv2d (Conv2D)              (None, 64, 64, 32)        896       \n",
      "_________________________________________________________________\n",
      "batch_normalization (BatchNo (None, 64, 64, 32)        128       \n",
      "_________________________________________________________________\n",
      "conv2d_1 (Conv2D)            (None, 64, 64, 32)        9248      \n",
      "_________________________________________________________________\n",
      "batch_normalization_1 (Batch (None, 64, 64, 32)        128       \n",
      "_________________________________________________________________\n",
      "max_pooling2d (MaxPooling2D) (None, 32, 32, 32)        0         \n",
      "_________________________________________________________________\n",
      "conv2d_2 (Conv2D)            (None, 32, 32, 64)        18496     \n",
      "_________________________________________________________________\n",
      "batch_normalization_2 (Batch (None, 32, 32, 64)        256       \n",
      "_________________________________________________________________\n",
      "conv2d_3 (Conv2D)            (None, 32, 32, 64)        36928     \n",
      "_________________________________________________________________\n",
      "batch_normalization_3 (Batch (None, 32, 32, 64)        256       \n",
      "_________________________________________________________________\n",
      "max_pooling2d_1 (MaxPooling2 (None, 16, 16, 64)        0         \n",
      "_________________________________________________________________\n",
      "conv2d_4 (Conv2D)            (None, 16, 16, 128)       73856     \n",
      "_________________________________________________________________\n",
      "batch_normalization_4 (Batch (None, 16, 16, 128)       512       \n",
      "_________________________________________________________________\n",
      "conv2d_5 (Conv2D)            (None, 16, 16, 128)       147584    \n",
      "_________________________________________________________________\n",
      "batch_normalization_5 (Batch (None, 16, 16, 128)       512       \n",
      "_________________________________________________________________\n",
      "max_pooling2d_2 (MaxPooling2 (None, 8, 8, 128)         0         \n",
      "_________________________________________________________________\n",
      "flatten (Flatten)            (None, 8192)              0         \n",
      "_________________________________________________________________\n",
      "dense (Dense)                (None, 64)                524352    \n",
      "_________________________________________________________________\n",
      "batch_normalization_6 (Batch (None, 64)                256       \n",
      "_________________________________________________________________\n",
      "dropout (Dropout)            (None, 64)                0         \n",
      "_________________________________________________________________\n",
      "dense_1 (Dense)              (None, 64)                4160      \n",
      "_________________________________________________________________\n",
      "batch_normalization_7 (Batch (None, 64)                256       \n",
      "_________________________________________________________________\n",
      "dropout_1 (Dropout)          (None, 64)                0         \n",
      "_________________________________________________________________\n",
      "dense_2 (Dense)              (None, 4)                 260       \n",
      "=================================================================\n",
      "Total params: 818,084\n",
      "Trainable params: 816,932\n",
      "Non-trainable params: 1,152\n",
      "_________________________________________________________________\n"
     ]
    }
   ],
   "source": [
    "# 定义模型\n",
    "model = Sequential(name = 'Face_Model')\n",
    "\n",
    "#BLOCK1\n",
    "# 卷积层1\n",
    "model.add(Conv2D(32, (3, 3), padding = 'same', activation = 'relu',input_shape = (face_h, face_w, 3)))\n",
    "model.add(BatchNormalization())\n",
    "# 卷积层2\n",
    "model.add(Conv2D(32, (3, 3),  padding = \"same\", activation = 'relu'))\n",
    "model.add(BatchNormalization())\n",
    "model.add(MaxPool2D(pool_size=(2, 2)))\n",
    "\n",
    "\n",
    "# Block2\n",
    "# 卷积层3\n",
    "model.add(Conv2D(64, (3, 3), padding = \"same\", activation = 'relu'))\n",
    "model.add(BatchNormalization())\n",
    "# 卷积层4\n",
    "model.add(Conv2D(64, (3, 3), padding = \"same\", activation = 'relu'))\n",
    "model.add(BatchNormalization())\n",
    "model.add(MaxPool2D(pool_size=(2, 2)))\n",
    "\n",
    "# Block3:\n",
    "# 卷积层5\n",
    "model.add(Conv2D(128, (3, 3),  padding = \"same\", activation = 'relu'))\n",
    "model.add(BatchNormalization())\n",
    "# 卷积层6\n",
    "model.add(Conv2D(128, (3, 3), padding = \"same\",  activation = 'relu'))\n",
    "model.add(BatchNormalization())\n",
    "model.add(MaxPool2D(pool_size=(2, 2)))\n",
    "model.add(Flatten())\n",
    "\n",
    "# 全连接层FC：第7层\n",
    "model.add(Dense(64, activation = 'relu'))\n",
    "model.add(BatchNormalization())\n",
    "model.add(Dropout(0.5))\n",
    "\n",
    "# 全连接层FC：第8层\n",
    "model.add(Dense(64, activation = 'relu'))\n",
    "model.add(BatchNormalization())\n",
    "model.add(Dropout(0.5))\n",
    "\n",
    "\n",
    "# 全连接层FC：第9层，Softmax分类        \n",
    "model.add(Dense(num_classes, activation = 'softmax'))\n",
    "          \n",
    "# 模型结构\n",
    "model.summary()"
   ]
  },
  {
   "cell_type": "markdown",
   "metadata": {},
   "source": [
    "### 2.3 模型训练"
   ]
  },
  {
   "cell_type": "code",
   "execution_count": 4,
   "metadata": {},
   "outputs": [],
   "source": [
    "from tensorflow.keras.optimizers import Adam   #优化算法\n",
    "#回调函数,下面这三个回调函数，可以让学生反复练习，因为几乎每次模型训练，都要用到\n",
    "from tensorflow.keras.callbacks import ModelCheckpoint, EarlyStopping, \\\n",
    "                                        ReduceLROnPlateau"
   ]
  },
  {
   "cell_type": "code",
   "execution_count": 5,
   "metadata": {},
   "outputs": [
    {
     "name": "stdout",
     "output_type": "stream",
     "text": [
      "Epoch 1/20\n",
      "26/26 [==============================] - 20s 73ms/step - loss: 1.0036 - accuracy: 0.6207 - val_loss: 719.8184 - val_accuracy: 0.2727\n",
      "\n",
      "Epoch 00001: val_loss improved from inf to 719.81842, saving model to ./Trained_Models\\face_recognition_model.h5\n",
      "Epoch 2/20\n",
      "26/26 [==============================] - 0s 15ms/step - loss: 0.4700 - accuracy: 0.8079 - val_loss: 27.2384 - val_accuracy: 0.1705\n",
      "\n",
      "Epoch 00002: val_loss improved from 719.81842 to 27.23841, saving model to ./Trained_Models\\face_recognition_model.h5\n",
      "Epoch 3/20\n",
      "26/26 [==============================] - 0s 14ms/step - loss: 0.5325 - accuracy: 0.8325 - val_loss: 19.6495 - val_accuracy: 0.2614\n",
      "\n",
      "Epoch 00003: val_loss improved from 27.23841 to 19.64951, saving model to ./Trained_Models\\face_recognition_model.h5\n",
      "Epoch 4/20\n",
      "26/26 [==============================] - 0s 14ms/step - loss: 0.3544 - accuracy: 0.8916 - val_loss: 7.3192 - val_accuracy: 0.4318\n",
      "\n",
      "Epoch 00004: val_loss improved from 19.64951 to 7.31919, saving model to ./Trained_Models\\face_recognition_model.h5\n",
      "Epoch 5/20\n",
      "26/26 [==============================] - 0s 15ms/step - loss: 0.4093 - accuracy: 0.8719 - val_loss: 1.9270 - val_accuracy: 0.3182\n",
      "\n",
      "Epoch 00005: val_loss improved from 7.31919 to 1.92705, saving model to ./Trained_Models\\face_recognition_model.h5\n",
      "Epoch 6/20\n",
      "26/26 [==============================] - 0s 15ms/step - loss: 0.2711 - accuracy: 0.9261 - val_loss: 0.2447 - val_accuracy: 0.9318\n",
      "\n",
      "Epoch 00006: val_loss improved from 1.92705 to 0.24474, saving model to ./Trained_Models\\face_recognition_model.h5\n",
      "Epoch 7/20\n",
      "26/26 [==============================] - 0s 14ms/step - loss: 0.4105 - accuracy: 0.8670 - val_loss: 0.0717 - val_accuracy: 0.9886\n",
      "\n",
      "Epoch 00007: val_loss improved from 0.24474 to 0.07166, saving model to ./Trained_Models\\face_recognition_model.h5\n",
      "Epoch 8/20\n",
      "26/26 [==============================] - ETA: 0s - loss: 0.2413 - accuracy: 0.92 - 0s 14ms/step - loss: 0.2300 - accuracy: 0.9360 - val_loss: 0.3125 - val_accuracy: 0.8409\n",
      "\n",
      "Epoch 00008: val_loss did not improve from 0.07166\n",
      "Epoch 9/20\n",
      "26/26 [==============================] - 0s 14ms/step - loss: 0.3316 - accuracy: 0.8867 - val_loss: 0.1510 - val_accuracy: 0.9545\n",
      "\n",
      "Epoch 00009: val_loss did not improve from 0.07166\n",
      "Epoch 10/20\n",
      "26/26 [==============================] - 0s 15ms/step - loss: 0.3719 - accuracy: 0.8942 - val_loss: 0.0766 - val_accuracy: 0.9659\n",
      "\n",
      "Epoch 00010: val_loss did not improve from 0.07166\n",
      "\n",
      "Epoch 00010: ReduceLROnPlateau reducing learning rate to 0.007999999821186066.\n",
      "Epoch 11/20\n",
      "26/26 [==============================] - 0s 15ms/step - loss: 0.2095 - accuracy: 0.9261 - val_loss: 0.0380 - val_accuracy: 0.9886\n",
      "\n",
      "Epoch 00011: val_loss improved from 0.07166 to 0.03805, saving model to ./Trained_Models\\face_recognition_model.h5\n",
      "Epoch 12/20\n",
      "26/26 [==============================] - 0s 14ms/step - loss: 0.2882 - accuracy: 0.8916 - val_loss: 0.0129 - val_accuracy: 1.0000\n",
      "\n",
      "Epoch 00012: val_loss improved from 0.03805 to 0.01294, saving model to ./Trained_Models\\face_recognition_model.h5\n",
      "Epoch 13/20\n",
      "26/26 [==============================] - 0s 14ms/step - loss: 0.2525 - accuracy: 0.9015 - val_loss: 0.0147 - val_accuracy: 0.9886\n",
      "\n",
      "Epoch 00013: val_loss did not improve from 0.01294\n",
      "Epoch 14/20\n",
      "26/26 [==============================] - 0s 14ms/step - loss: 0.2127 - accuracy: 0.9310 - val_loss: 0.0139 - val_accuracy: 0.9886\n",
      "\n",
      "Epoch 00014: val_loss did not improve from 0.01294\n",
      "Epoch 15/20\n",
      "26/26 [==============================] - 0s 14ms/step - loss: 0.1087 - accuracy: 0.9606 - val_loss: 0.0136 - val_accuracy: 0.9886\n",
      "\n",
      "Epoch 00015: val_loss did not improve from 0.01294\n",
      "\n",
      "Epoch 00015: ReduceLROnPlateau reducing learning rate to 0.006399999558925629.\n",
      "Epoch 16/20\n",
      "26/26 [==============================] - 0s 14ms/step - loss: 0.2542 - accuracy: 0.9458 - val_loss: 0.0130 - val_accuracy: 0.9886\n",
      "\n",
      "Epoch 00016: val_loss did not improve from 0.01294\n",
      "Epoch 17/20\n",
      "26/26 [==============================] - 0s 13ms/step - loss: 0.2255 - accuracy: 0.9310 - val_loss: 0.0105 - val_accuracy: 1.0000\n",
      "\n",
      "Epoch 00017: val_loss improved from 0.01294 to 0.01055, saving model to ./Trained_Models\\face_recognition_model.h5\n",
      "Epoch 18/20\n",
      "26/26 [==============================] - 0s 15ms/step - loss: 0.1573 - accuracy: 0.9507 - val_loss: 0.0046 - val_accuracy: 1.0000\n",
      "\n",
      "Epoch 00018: val_loss improved from 0.01055 to 0.00465, saving model to ./Trained_Models\\face_recognition_model.h5\n",
      "Epoch 19/20\n",
      "26/26 [==============================] - 0s 14ms/step - loss: 0.0560 - accuracy: 0.9803 - val_loss: 0.0074 - val_accuracy: 1.0000\n",
      "\n",
      "Epoch 00019: val_loss did not improve from 0.00465\n",
      "Epoch 20/20\n",
      "26/26 [==============================] - 0s 15ms/step - loss: 0.2148 - accuracy: 0.9310 - val_loss: 0.0070 - val_accuracy: 1.0000\n",
      "\n",
      "Epoch 00020: val_loss did not improve from 0.00465\n",
      "Wall time: 28.6 s\n"
     ]
    }
   ],
   "source": [
    "%%time\n",
    "# 定义回调函数：保存最优模型                     \n",
    "checkpoint = ModelCheckpoint(\"./Trained_Models/face_recognition_model.h5\",\n",
    "                             monitor=\"val_loss\",\n",
    "                             mode=\"min\",\n",
    "                             save_best_only = True,\n",
    "                             save_weights_only=False,\n",
    "                             verbose=1)\n",
    "# 定义回调函数：提前终止训练\n",
    "earlystop = EarlyStopping(monitor = 'val_loss', \n",
    "                          min_delta = 0, \n",
    "                          patience = 5,\n",
    "                          verbose = 1,\n",
    "                          restore_best_weights = True)\n",
    "# 定义回调函数：学习率衰减。这是是一个简单策略。还可以定义更复杂的。\n",
    "reduce_lr = ReduceLROnPlateau(monitor = 'val_loss',\n",
    "                              factor = 0.8,\n",
    "                              patience = 3,\n",
    "                              verbose = 1,\n",
    "                              min_delta = 0.0001)\n",
    "\n",
    "# 将回调函数组织为回调列表\n",
    "callbacks = [earlystop, checkpoint, reduce_lr]\n",
    "\n",
    "# 模型编译，指定损失函数、优化算法、学习率和模型评价标准 \n",
    "model.compile(loss = 'categorical_crossentropy',\n",
    "              optimizer = Adam(learning_rate=0.01),\n",
    "              metrics = ['accuracy'])\n",
    "\n",
    "#训练集样本数量，对训练集规模应该精准把握\n",
    "n_train_samples = train_generator.n\n",
    "#验证集样本数量，对验证集规模应该精准把握\n",
    "n_validation_samples =validation_generator.n\n",
    "# 训练代数\n",
    "epochs = 20\n",
    "\n",
    "# 开始训练\n",
    "history = model.fit(\n",
    "    train_generator, # 动态加载训练集   \n",
    "    steps_per_epoch = n_train_samples // batch_size,  # 控制单代迭代步数\n",
    "    epochs = epochs,  # 最大训练代数\n",
    "    callbacks = callbacks,  # 回调函数列表\n",
    "    validation_data = validation_generator,  # 动态加载验证集\n",
    "    validation_steps = n_validation_samples // batch_size # 控制单代迭代步数\n",
    ")"
   ]
  },
  {
   "cell_type": "markdown",
   "metadata": {},
   "source": [
    "### 2.4 模型评价"
   ]
  },
  {
   "cell_type": "markdown",
   "metadata": {},
   "source": [
    "通过观察模型训练过程的表现，对模型实施一个基本评估。常用直观的指标有准确率曲线与损失函数曲线。"
   ]
  },
  {
   "cell_type": "code",
   "execution_count": 6,
   "metadata": {},
   "outputs": [
    {
     "data": {
      "image/png": "[encoded data removed]",
      "text/plain": [
       "<Figure size 432x288 with 1 Axes>"
      ]
     },
     "metadata": {
      "needs_background": "light"
     },
     "output_type": "display_data"
    },
    {
     "data": {
      "text/plain": [
       "<matplotlib.legend.Legend at 0x1bc37503eb0>"
      ]
     },
     "execution_count": 6,
     "metadata": {},
     "output_type": "execute_result"
    },
    {
     "data": {
      "image/png": "[encoded data removed]",
      "text/plain": [
       "<Figure size 432x288 with 1 Axes>"
      ]
     },
     "metadata": {
      "needs_background": "light"
     },
     "output_type": "display_data"
    }
   ],
   "source": [
    "#绘制模型准确率曲线\n",
    "import matplotlib.pyplot as plt\n",
    "x = range(1, len(history.history['accuracy'])+1)\n",
    "plt.plot(x, history.history['accuracy'])\n",
    "plt.plot(x, history.history['val_accuracy'])\n",
    "plt.title('Model accuracy')\n",
    "plt.ylabel('Accuracy')\n",
    "plt.xlabel('Epoch')\n",
    "plt.xticks(x)\n",
    "plt.legend(['Train', 'Val'], loc='upper left')\n",
    "plt.show()\n",
    "#绘制模型损失函数曲线\n",
    "plt.plot(x, history.history['loss'])\n",
    "plt.plot(x, history.history['val_loss'])\n",
    "plt.title('Model loss')\n",
    "plt.ylabel('Loss')\n",
    "plt.xlabel('Epoch')\n",
    "plt.xticks(x)\n",
    "plt.legend(['Train', 'Val'], loc='upper right')"
   ]
  },
  {
   "cell_type": "markdown",
   "metadata": {},
   "source": [
    "这个损失函数曲线有些迷惑性，不仔细看，容易被欺骗。原因是坐标相对尺度变化太大了。"
   ]
  },
  {
   "cell_type": "markdown",
   "metadata": {},
   "source": [
    "无论是准确率曲线还是损失函数曲线，都会给我们一个基本提示,例如：<br/>\n",
    "【1】<b>模型过拟合吗？</b><br/>\n",
    "【2】<b>模型准确率高吗？</b><br/>\n",
    "【3】<b>稳定吗？泛化能力强吗？</b><br/>\n",
    "【4】<b>有提升空间吗？有哪些提升措施？</b><br/>\n",
    "【5】<b>可以部署到生产实践场景中吗？距离还有多远？</b><br/>"
   ]
  },
  {
   "cell_type": "markdown",
   "metadata": {},
   "source": [
    "### 2.5 模型测试"
   ]
  },
  {
   "cell_type": "code",
   "execution_count": 7,
   "metadata": {},
   "outputs": [
    {
     "data": {
      "text/plain": [
       "{0: 'four', 1: 'one', 2: 'three', 3: 'two'}"
      ]
     },
     "execution_count": 7,
     "metadata": {},
     "output_type": "execute_result"
    }
   ],
   "source": [
    "# 获取标签列表，对标签做个观察\n",
    "class_labels = validation_generator.class_indices\n",
    "class_labels = {v: k for k, v in class_labels.items()}\n",
    "classes = list(class_labels.values())\n",
    "class_labels"
   ]
  },
  {
   "cell_type": "markdown",
   "metadata": {},
   "source": [
    "#### 基于摄像头测试模型"
   ]
  },
  {
   "cell_type": "markdown",
   "metadata": {},
   "source": [
    "#### 模型训练完成后，可以直接从此处开始加载模型测试。\n",
    "所以有几个包重新导入一遍，以便可以确定从此处开始运行测试。"
   ]
  },
  {
   "cell_type": "code",
   "execution_count": 8,
   "metadata": {},
   "outputs": [],
   "source": [
    "# 加载训练好的模型\n",
    "from tensorflow.keras.models import load_model\n",
    "model = load_model('./Trained_Models/face_recognition_model.h5')"
   ]
  },
  {
   "cell_type": "code",
   "execution_count": 9,
   "metadata": {},
   "outputs": [],
   "source": [
    "import cv2\n",
    "import numpy as np\n",
    "import dlib"
   ]
  },
  {
   "cell_type": "code",
   "execution_count": 11,
   "metadata": {},
   "outputs": [],
   "source": [
    "# 定义模型的标签字典\n",
    "face_classes = {0: 'four', 1: 'one', 2: 'three', 3: 'two'}\n",
    "    \n",
    "# dlib脸部检测器\n",
    "detector = dlib.get_frontal_face_detector()\n",
    "# 打开摄像头\n",
    "cap = cv2.VideoCapture(0)\n",
    "while cap.isOpened():\n",
    "    ret, frame = cap.read()  # 读取一帧\n",
    "    preprocessed_faces = []   # 脸部图像列表，用于保存当前帧检测到的全部face图像        \n",
    "    frame_h, frame_w, _ = np.shape(frame)  # 帧图像大小\n",
    "    detected = detector(frame, 1)  #探测脸部\n",
    "    \n",
    "    if len(detected) > 0:  #提取当前帧探测的所有脸部图像，构建预测数据集\n",
    "        for i, d in enumerate(detected):  #枚举脸部对象\n",
    "            #脸部坐标\n",
    "            x1, y1, x2, y2, w, h = d.left(), d.top(), d.right() + 1, d.bottom() + 1,\\\n",
    "            d.width(), d.height()\n",
    "            \n",
    "            # 绘制边界框\n",
    "            cv2.rectangle(frame, (x1, y1), (x2, y2), (0, 255, 0), 2)\n",
    "            # 脸部的边界（含边距）\n",
    "            face =  frame[y1:y2 + 1, x1:x2 + 1, :]\n",
    "            # 脸部缩放，以适合模型需要的输入维度\n",
    "            face = cv2.resize(face, (face_h, face_w))\n",
    "            # 图像归一化\n",
    "            face = face.astype(\"float\") / 255.0\n",
    "            # 扩充维度，变为四维（1，face_h,face_w,3）\n",
    "            face = np.expand_dims(face, axis=0)\n",
    "            # 加入预处理的脸部图像列表\n",
    "            preprocessed_faces.append(face)\n",
    "\n",
    "        # 对每一个face进行预测，可以同时识别多个人像 \n",
    "        face_labels = []  #保存预测结果\n",
    "        for i, d in enumerate(detected):\n",
    "            preds = model.predict(preprocessed_faces[i])[0]  #预测\n",
    "            face_labels.append(face_classes[preds.argmax()])  # 提取标签\n",
    "            label = f\"{face_labels[i]}\"\n",
    "            cv2.putText(frame,label,(d.left(),d.top()-10),cv2.FONT_HERSHEY_SIMPLEX,1.2,(255, 255,0),3)\n",
    "\n",
    "    cv2.imshow(\"Face Recognition\", frame)  # 显示当前帧\n",
    "    # Esc键终止检测\n",
    "    if cv2.waitKey(1) & 0xFF == 27:\n",
    "        break\n",
    "\n",
    "cap.release()\n",
    "cv2.destroyAllWindows()      "
   ]
  },
  {
   "cell_type": "markdown",
   "metadata": {},
   "source": [
    "按ESC键可以结束实时监测。观察检测结果，你有什么想说的吗？"
   ]
  },
  {
   "cell_type": "markdown",
   "metadata": {},
   "source": [
    "模型可能有些准，又有些不准。很大程度上取决于你的数据集。"
   ]
  },
  {
   "cell_type": "markdown",
   "metadata": {},
   "source": [
    "回顾建模模型过程，写出分析总结报告。"
   ]
  },
  {
   "cell_type": "markdown",
   "metadata": {},
   "source": [
    "思考：该模型的最大缺点是什么？<br/>\n",
    "回答：增加新员工，需要重新训练模型。<font color='red'>这可不太友好吆！！！！</font><br/>\n",
    "那么，如何改进呢？"
   ]
  },
  {
   "cell_type": "markdown",
   "metadata": {},
   "source": [
    "### 请继续完成第三阶段的学习，相似度检测。"
   ]
  },
  {
   "cell_type": "code",
   "execution_count": null,
   "metadata": {},
   "outputs": [],
   "source": []
  }
 ],
 "metadata": {
  "kernelspec": {
   "display_name": "Python 3 (ipykernel)",
   "language": "python",
   "name": "python3"
  },
  "language_info": {
   "codemirror_mode": {
    "name": "ipython",
    "version": 3
   },
   "file_extension": ".py",
   "mimetype": "text/x-python",
   "name": "python",
   "nbconvert_exporter": "python",
   "pygments_lexer": "ipython3",
   "version": "3.9.7"
  }
 },
 "nbformat": 4,
 "nbformat_minor": 2
}
